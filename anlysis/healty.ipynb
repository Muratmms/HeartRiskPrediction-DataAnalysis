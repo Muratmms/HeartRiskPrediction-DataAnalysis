{
 "cells": [
  {
   "cell_type": "markdown",
   "metadata": {},
   "source": [
    "# healty"
   ]
  },
  {
   "cell_type": "code",
   "execution_count": 49,
   "metadata": {},
   "outputs": [],
   "source": [
    "import pandas as pd"
   ]
  },
  {
   "cell_type": "code",
   "execution_count": 50,
   "metadata": {},
   "outputs": [
    {
     "data": {
      "application/vnd.microsoft.datawrangler.viewer.v0+json": {
       "columns": [
        {
         "name": "index",
         "rawType": "int64",
         "type": "integer"
        },
        {
         "name": "Chest_Pain",
         "rawType": "float64",
         "type": "float"
        },
        {
         "name": "Shortness_of_Breath",
         "rawType": "float64",
         "type": "float"
        },
        {
         "name": "Fatigue",
         "rawType": "float64",
         "type": "float"
        },
        {
         "name": "Palpitations",
         "rawType": "float64",
         "type": "float"
        },
        {
         "name": "Dizziness",
         "rawType": "float64",
         "type": "float"
        },
        {
         "name": "Swelling",
         "rawType": "float64",
         "type": "float"
        },
        {
         "name": "Pain_Arms_Jaw_Back",
         "rawType": "float64",
         "type": "float"
        },
        {
         "name": "Cold_Sweats_Nausea",
         "rawType": "float64",
         "type": "float"
        },
        {
         "name": "High_BP",
         "rawType": "float64",
         "type": "float"
        },
        {
         "name": "High_Cholesterol",
         "rawType": "float64",
         "type": "float"
        },
        {
         "name": "Diabetes",
         "rawType": "float64",
         "type": "float"
        },
        {
         "name": "Smoking",
         "rawType": "float64",
         "type": "float"
        },
        {
         "name": "Obesity",
         "rawType": "float64",
         "type": "float"
        },
        {
         "name": "Sedentary_Lifestyle",
         "rawType": "float64",
         "type": "float"
        },
        {
         "name": "Family_History",
         "rawType": "float64",
         "type": "float"
        },
        {
         "name": "Chronic_Stress",
         "rawType": "float64",
         "type": "float"
        },
        {
         "name": "Gender",
         "rawType": "float64",
         "type": "float"
        },
        {
         "name": "Age",
         "rawType": "float64",
         "type": "float"
        },
        {
         "name": "Heart_Risk",
         "rawType": "float64",
         "type": "float"
        }
       ],
       "conversionMethod": "pd.DataFrame",
       "ref": "ee59f83d-1b6c-49cb-ab6e-c8bc26757f5e",
       "rows": [
        [
         "0",
         "0.0",
         "0.0",
         "0.0",
         "1.0",
         "0.0",
         "0.0",
         "0.0",
         "0.0",
         "0.0",
         "0.0",
         "0.0",
         "1.0",
         "0.0",
         "1.0",
         "0.0",
         "0.0",
         "0.0",
         "48.0",
         "0.0"
        ],
        [
         "1",
         "0.0",
         "1.0",
         "0.0",
         "1.0",
         "0.0",
         "0.0",
         "0.0",
         "0.0",
         "1.0",
         "0.0",
         "0.0",
         "1.0",
         "1.0",
         "0.0",
         "0.0",
         "0.0",
         "0.0",
         "46.0",
         "0.0"
        ],
        [
         "2",
         "1.0",
         "0.0",
         "0.0",
         "1.0",
         "0.0",
         "0.0",
         "0.0",
         "0.0",
         "1.0",
         "1.0",
         "0.0",
         "1.0",
         "1.0",
         "1.0",
         "0.0",
         "0.0",
         "1.0",
         "66.0",
         "0.0"
        ],
        [
         "3",
         "1.0",
         "1.0",
         "0.0",
         "1.0",
         "0.0",
         "0.0",
         "1.0",
         "1.0",
         "1.0",
         "0.0",
         "1.0",
         "1.0",
         "0.0",
         "1.0",
         "1.0",
         "1.0",
         "1.0",
         "60.0",
         "1.0"
        ],
        [
         "4",
         "0.0",
         "0.0",
         "1.0",
         "0.0",
         "1.0",
         "0.0",
         "0.0",
         "0.0",
         "0.0",
         "0.0",
         "1.0",
         "0.0",
         "0.0",
         "0.0",
         "0.0",
         "0.0",
         "0.0",
         "69.0",
         "0.0"
        ]
       ],
       "shape": {
        "columns": 19,
        "rows": 5
       }
      },
      "text/html": [
       "<div>\n",
       "<style scoped>\n",
       "    .dataframe tbody tr th:only-of-type {\n",
       "        vertical-align: middle;\n",
       "    }\n",
       "\n",
       "    .dataframe tbody tr th {\n",
       "        vertical-align: top;\n",
       "    }\n",
       "\n",
       "    .dataframe thead th {\n",
       "        text-align: right;\n",
       "    }\n",
       "</style>\n",
       "<table border=\"1\" class=\"dataframe\">\n",
       "  <thead>\n",
       "    <tr style=\"text-align: right;\">\n",
       "      <th></th>\n",
       "      <th>Chest_Pain</th>\n",
       "      <th>Shortness_of_Breath</th>\n",
       "      <th>Fatigue</th>\n",
       "      <th>Palpitations</th>\n",
       "      <th>Dizziness</th>\n",
       "      <th>Swelling</th>\n",
       "      <th>Pain_Arms_Jaw_Back</th>\n",
       "      <th>Cold_Sweats_Nausea</th>\n",
       "      <th>High_BP</th>\n",
       "      <th>High_Cholesterol</th>\n",
       "      <th>Diabetes</th>\n",
       "      <th>Smoking</th>\n",
       "      <th>Obesity</th>\n",
       "      <th>Sedentary_Lifestyle</th>\n",
       "      <th>Family_History</th>\n",
       "      <th>Chronic_Stress</th>\n",
       "      <th>Gender</th>\n",
       "      <th>Age</th>\n",
       "      <th>Heart_Risk</th>\n",
       "    </tr>\n",
       "  </thead>\n",
       "  <tbody>\n",
       "    <tr>\n",
       "      <th>0</th>\n",
       "      <td>0.0</td>\n",
       "      <td>0.0</td>\n",
       "      <td>0.0</td>\n",
       "      <td>1.0</td>\n",
       "      <td>0.0</td>\n",
       "      <td>0.0</td>\n",
       "      <td>0.0</td>\n",
       "      <td>0.0</td>\n",
       "      <td>0.0</td>\n",
       "      <td>0.0</td>\n",
       "      <td>0.0</td>\n",
       "      <td>1.0</td>\n",
       "      <td>0.0</td>\n",
       "      <td>1.0</td>\n",
       "      <td>0.0</td>\n",
       "      <td>0.0</td>\n",
       "      <td>0.0</td>\n",
       "      <td>48.0</td>\n",
       "      <td>0.0</td>\n",
       "    </tr>\n",
       "    <tr>\n",
       "      <th>1</th>\n",
       "      <td>0.0</td>\n",
       "      <td>1.0</td>\n",
       "      <td>0.0</td>\n",
       "      <td>1.0</td>\n",
       "      <td>0.0</td>\n",
       "      <td>0.0</td>\n",
       "      <td>0.0</td>\n",
       "      <td>0.0</td>\n",
       "      <td>1.0</td>\n",
       "      <td>0.0</td>\n",
       "      <td>0.0</td>\n",
       "      <td>1.0</td>\n",
       "      <td>1.0</td>\n",
       "      <td>0.0</td>\n",
       "      <td>0.0</td>\n",
       "      <td>0.0</td>\n",
       "      <td>0.0</td>\n",
       "      <td>46.0</td>\n",
       "      <td>0.0</td>\n",
       "    </tr>\n",
       "    <tr>\n",
       "      <th>2</th>\n",
       "      <td>1.0</td>\n",
       "      <td>0.0</td>\n",
       "      <td>0.0</td>\n",
       "      <td>1.0</td>\n",
       "      <td>0.0</td>\n",
       "      <td>0.0</td>\n",
       "      <td>0.0</td>\n",
       "      <td>0.0</td>\n",
       "      <td>1.0</td>\n",
       "      <td>1.0</td>\n",
       "      <td>0.0</td>\n",
       "      <td>1.0</td>\n",
       "      <td>1.0</td>\n",
       "      <td>1.0</td>\n",
       "      <td>0.0</td>\n",
       "      <td>0.0</td>\n",
       "      <td>1.0</td>\n",
       "      <td>66.0</td>\n",
       "      <td>0.0</td>\n",
       "    </tr>\n",
       "    <tr>\n",
       "      <th>3</th>\n",
       "      <td>1.0</td>\n",
       "      <td>1.0</td>\n",
       "      <td>0.0</td>\n",
       "      <td>1.0</td>\n",
       "      <td>0.0</td>\n",
       "      <td>0.0</td>\n",
       "      <td>1.0</td>\n",
       "      <td>1.0</td>\n",
       "      <td>1.0</td>\n",
       "      <td>0.0</td>\n",
       "      <td>1.0</td>\n",
       "      <td>1.0</td>\n",
       "      <td>0.0</td>\n",
       "      <td>1.0</td>\n",
       "      <td>1.0</td>\n",
       "      <td>1.0</td>\n",
       "      <td>1.0</td>\n",
       "      <td>60.0</td>\n",
       "      <td>1.0</td>\n",
       "    </tr>\n",
       "    <tr>\n",
       "      <th>4</th>\n",
       "      <td>0.0</td>\n",
       "      <td>0.0</td>\n",
       "      <td>1.0</td>\n",
       "      <td>0.0</td>\n",
       "      <td>1.0</td>\n",
       "      <td>0.0</td>\n",
       "      <td>0.0</td>\n",
       "      <td>0.0</td>\n",
       "      <td>0.0</td>\n",
       "      <td>0.0</td>\n",
       "      <td>1.0</td>\n",
       "      <td>0.0</td>\n",
       "      <td>0.0</td>\n",
       "      <td>0.0</td>\n",
       "      <td>0.0</td>\n",
       "      <td>0.0</td>\n",
       "      <td>0.0</td>\n",
       "      <td>69.0</td>\n",
       "      <td>0.0</td>\n",
       "    </tr>\n",
       "  </tbody>\n",
       "</table>\n",
       "</div>"
      ],
      "text/plain": [
       "   Chest_Pain  Shortness_of_Breath  Fatigue  Palpitations  Dizziness  \\\n",
       "0         0.0                  0.0      0.0           1.0        0.0   \n",
       "1         0.0                  1.0      0.0           1.0        0.0   \n",
       "2         1.0                  0.0      0.0           1.0        0.0   \n",
       "3         1.0                  1.0      0.0           1.0        0.0   \n",
       "4         0.0                  0.0      1.0           0.0        1.0   \n",
       "\n",
       "   Swelling  Pain_Arms_Jaw_Back  Cold_Sweats_Nausea  High_BP  \\\n",
       "0       0.0                 0.0                 0.0      0.0   \n",
       "1       0.0                 0.0                 0.0      1.0   \n",
       "2       0.0                 0.0                 0.0      1.0   \n",
       "3       0.0                 1.0                 1.0      1.0   \n",
       "4       0.0                 0.0                 0.0      0.0   \n",
       "\n",
       "   High_Cholesterol  Diabetes  Smoking  Obesity  Sedentary_Lifestyle  \\\n",
       "0               0.0       0.0      1.0      0.0                  1.0   \n",
       "1               0.0       0.0      1.0      1.0                  0.0   \n",
       "2               1.0       0.0      1.0      1.0                  1.0   \n",
       "3               0.0       1.0      1.0      0.0                  1.0   \n",
       "4               0.0       1.0      0.0      0.0                  0.0   \n",
       "\n",
       "   Family_History  Chronic_Stress  Gender   Age  Heart_Risk  \n",
       "0             0.0             0.0     0.0  48.0         0.0  \n",
       "1             0.0             0.0     0.0  46.0         0.0  \n",
       "2             0.0             0.0     1.0  66.0         0.0  \n",
       "3             1.0             1.0     1.0  60.0         1.0  \n",
       "4             0.0             0.0     0.0  69.0         0.0  "
      ]
     },
     "execution_count": 50,
     "metadata": {},
     "output_type": "execute_result"
    }
   ],
   "source": [
    "data = pd.read_csv(\"heart_disease_risk_dataset_earlymed.csv\")\n",
    "data.head()"
   ]
  },
  {
   "cell_type": "code",
   "execution_count": 51,
   "metadata": {},
   "outputs": [
    {
     "name": "stdout",
     "output_type": "stream",
     "text": [
      "<class 'pandas.core.frame.DataFrame'>\n",
      "RangeIndex: 70000 entries, 0 to 69999\n",
      "Data columns (total 19 columns):\n",
      " #   Column               Non-Null Count  Dtype  \n",
      "---  ------               --------------  -----  \n",
      " 0   Chest_Pain           70000 non-null  float64\n",
      " 1   Shortness_of_Breath  70000 non-null  float64\n",
      " 2   Fatigue              70000 non-null  float64\n",
      " 3   Palpitations         70000 non-null  float64\n",
      " 4   Dizziness            70000 non-null  float64\n",
      " 5   Swelling             70000 non-null  float64\n",
      " 6   Pain_Arms_Jaw_Back   70000 non-null  float64\n",
      " 7   Cold_Sweats_Nausea   70000 non-null  float64\n",
      " 8   High_BP              70000 non-null  float64\n",
      " 9   High_Cholesterol     70000 non-null  float64\n",
      " 10  Diabetes             70000 non-null  float64\n",
      " 11  Smoking              70000 non-null  float64\n",
      " 12  Obesity              70000 non-null  float64\n",
      " 13  Sedentary_Lifestyle  70000 non-null  float64\n",
      " 14  Family_History       70000 non-null  float64\n",
      " 15  Chronic_Stress       70000 non-null  float64\n",
      " 16  Gender               70000 non-null  float64\n",
      " 17  Age                  70000 non-null  float64\n",
      " 18  Heart_Risk           70000 non-null  float64\n",
      "dtypes: float64(19)\n",
      "memory usage: 10.1 MB\n"
     ]
    }
   ],
   "source": [
    "x = data[['Age', 'Dizziness', 'Cold_Sweats_Nausea', 'Palpitations', 'Shortness_of_Breath', 'Fatigue', 'Chest_Pain', 'Swelling', 'Pain_Arms_Jaw_Back']]\n",
    "y = data['Heart_Risk']\n",
    "data.info()"
   ]
  },
  {
   "cell_type": "code",
   "execution_count": 52,
   "metadata": {},
   "outputs": [],
   "source": [
    "from sklearn.model_selection import train_test_split\n",
    "x_train, x_test, y_train, y_test = train_test_split(x, y, test_size=0.20, random_state=34)"
   ]
  },
  {
   "cell_type": "code",
   "execution_count": 53,
   "metadata": {},
   "outputs": [
    {
     "data": {
      "text/plain": [
       "array([[6776,  152],\n",
       "       [ 153, 6919]])"
      ]
     },
     "execution_count": 53,
     "metadata": {},
     "output_type": "execute_result"
    }
   ],
   "source": [
    "from sklearn.metrics import confusion_matrix\n",
    "from sklearn.ensemble import RandomForestClassifier\n",
    "\n",
    "dataCls = RandomForestClassifier(n_estimators=10, criterion=\"entropy\")\n",
    "dataCls.fit(x_train,y_train)\n",
    "\n",
    "y_pred = dataCls.predict(x_test)\n",
    "y_proba = dataCls.predict_proba(x_test)\n",
    "cm = confusion_matrix(y_test,y_pred)\n",
    "cm"
   ]
  },
  {
   "cell_type": "code",
   "execution_count": 54,
   "metadata": {},
   "outputs": [
    {
     "name": "stdout",
     "output_type": "stream",
     "text": [
      "Age                    0.271604\n",
      "Fatigue                0.161166\n",
      "Pain_Arms_Jaw_Back     0.107774\n",
      "Swelling               0.103599\n",
      "Cold_Sweats_Nausea     0.085971\n",
      "Chest_Pain             0.074359\n",
      "Shortness_of_Breath    0.073582\n",
      "Dizziness              0.068453\n",
      "Palpitations           0.053493\n",
      "dtype: float64\n"
     ]
    }
   ],
   "source": [
    "# Önemli özellikleri al\n",
    "importances = dataCls.feature_importances_\n",
    "\n",
    "# Sonuçları sırala ve yazdır\n",
    "feature_importance = pd.Series(importances, index=x_train.columns).sort_values(ascending=False)\n",
    "print(feature_importance.head(10))"
   ]
  },
  {
   "cell_type": "code",
   "execution_count": 55,
   "metadata": {},
   "outputs": [
    {
     "name": "stdout",
     "output_type": "stream",
     "text": [
      "Epoch 1/50\n"
     ]
    },
    {
     "name": "stderr",
     "output_type": "stream",
     "text": [
      "c:\\Users\\mrtmm\\AppData\\Local\\Programs\\Python\\Python311\\Lib\\site-packages\\keras\\src\\layers\\core\\dense.py:87: UserWarning: Do not pass an `input_shape`/`input_dim` argument to a layer. When using Sequential models, prefer using an `Input(shape)` object as the first layer in the model instead.\n",
      "  super().__init__(activity_regularizer=activity_regularizer, **kwargs)\n"
     ]
    },
    {
     "name": "stdout",
     "output_type": "stream",
     "text": [
      "\u001b[1m1750/1750\u001b[0m \u001b[32m━━━━━━━━━━━━━━━━━━━━\u001b[0m\u001b[37m\u001b[0m \u001b[1m6s\u001b[0m 3ms/step - accuracy: 0.9281 - loss: 0.1461 - val_accuracy: 0.9730 - val_loss: 0.0822\n",
      "Epoch 2/50\n",
      "\u001b[1m1750/1750\u001b[0m \u001b[32m━━━━━━━━━━━━━━━━━━━━\u001b[0m\u001b[37m\u001b[0m \u001b[1m5s\u001b[0m 3ms/step - accuracy: 0.9784 - loss: 0.0580 - val_accuracy: 0.9782 - val_loss: 0.0680\n",
      "Epoch 3/50\n",
      "\u001b[1m1750/1750\u001b[0m \u001b[32m━━━━━━━━━━━━━━━━━━━━\u001b[0m\u001b[37m\u001b[0m \u001b[1m5s\u001b[0m 3ms/step - accuracy: 0.9781 - loss: 0.0601 - val_accuracy: 0.9689 - val_loss: 0.0937\n",
      "Epoch 4/50\n",
      "\u001b[1m1750/1750\u001b[0m \u001b[32m━━━━━━━━━━━━━━━━━━━━\u001b[0m\u001b[37m\u001b[0m \u001b[1m5s\u001b[0m 3ms/step - accuracy: 0.9773 - loss: 0.0591 - val_accuracy: 0.9774 - val_loss: 0.0578\n",
      "Epoch 5/50\n",
      "\u001b[1m1750/1750\u001b[0m \u001b[32m━━━━━━━━━━━━━━━━━━━━\u001b[0m\u001b[37m\u001b[0m \u001b[1m5s\u001b[0m 3ms/step - accuracy: 0.9796 - loss: 0.0541 - val_accuracy: 0.9728 - val_loss: 0.0771\n",
      "Epoch 6/50\n",
      "\u001b[1m1750/1750\u001b[0m \u001b[32m━━━━━━━━━━━━━━━━━━━━\u001b[0m\u001b[37m\u001b[0m \u001b[1m5s\u001b[0m 3ms/step - accuracy: 0.9799 - loss: 0.0543 - val_accuracy: 0.9790 - val_loss: 0.0580\n",
      "Epoch 7/50\n",
      "\u001b[1m1750/1750\u001b[0m \u001b[32m━━━━━━━━━━━━━━━━━━━━\u001b[0m\u001b[37m\u001b[0m \u001b[1m5s\u001b[0m 3ms/step - accuracy: 0.9789 - loss: 0.0533 - val_accuracy: 0.9796 - val_loss: 0.0620\n",
      "Epoch 8/50\n",
      "\u001b[1m1750/1750\u001b[0m \u001b[32m━━━━━━━━━━━━━━━━━━━━\u001b[0m\u001b[37m\u001b[0m \u001b[1m5s\u001b[0m 3ms/step - accuracy: 0.9801 - loss: 0.0526 - val_accuracy: 0.9785 - val_loss: 0.0565\n",
      "Epoch 9/50\n",
      "\u001b[1m1750/1750\u001b[0m \u001b[32m━━━━━━━━━━━━━━━━━━━━\u001b[0m\u001b[37m\u001b[0m \u001b[1m5s\u001b[0m 3ms/step - accuracy: 0.9792 - loss: 0.0531 - val_accuracy: 0.9772 - val_loss: 0.0560\n",
      "Epoch 10/50\n",
      "\u001b[1m1750/1750\u001b[0m \u001b[32m━━━━━━━━━━━━━━━━━━━━\u001b[0m\u001b[37m\u001b[0m \u001b[1m5s\u001b[0m 3ms/step - accuracy: 0.9800 - loss: 0.0517 - val_accuracy: 0.9795 - val_loss: 0.0544\n",
      "Epoch 11/50\n",
      "\u001b[1m1750/1750\u001b[0m \u001b[32m━━━━━━━━━━━━━━━━━━━━\u001b[0m\u001b[37m\u001b[0m \u001b[1m5s\u001b[0m 3ms/step - accuracy: 0.9792 - loss: 0.0521 - val_accuracy: 0.9767 - val_loss: 0.0667\n",
      "Epoch 12/50\n",
      "\u001b[1m1750/1750\u001b[0m \u001b[32m━━━━━━━━━━━━━━━━━━━━\u001b[0m\u001b[37m\u001b[0m \u001b[1m5s\u001b[0m 3ms/step - accuracy: 0.9780 - loss: 0.0532 - val_accuracy: 0.9728 - val_loss: 0.0708\n",
      "Epoch 13/50\n",
      "\u001b[1m1750/1750\u001b[0m \u001b[32m━━━━━━━━━━━━━━━━━━━━\u001b[0m\u001b[37m\u001b[0m \u001b[1m5s\u001b[0m 3ms/step - accuracy: 0.9799 - loss: 0.0511 - val_accuracy: 0.9804 - val_loss: 0.0535\n",
      "Epoch 14/50\n",
      "\u001b[1m1750/1750\u001b[0m \u001b[32m━━━━━━━━━━━━━━━━━━━━\u001b[0m\u001b[37m\u001b[0m \u001b[1m5s\u001b[0m 3ms/step - accuracy: 0.9797 - loss: 0.0512 - val_accuracy: 0.9796 - val_loss: 0.0552\n",
      "Epoch 15/50\n",
      "\u001b[1m1750/1750\u001b[0m \u001b[32m━━━━━━━━━━━━━━━━━━━━\u001b[0m\u001b[37m\u001b[0m \u001b[1m5s\u001b[0m 3ms/step - accuracy: 0.9802 - loss: 0.0502 - val_accuracy: 0.9777 - val_loss: 0.0543\n",
      "Epoch 16/50\n",
      "\u001b[1m1750/1750\u001b[0m \u001b[32m━━━━━━━━━━━━━━━━━━━━\u001b[0m\u001b[37m\u001b[0m \u001b[1m5s\u001b[0m 3ms/step - accuracy: 0.9797 - loss: 0.0492 - val_accuracy: 0.9806 - val_loss: 0.0523\n",
      "Epoch 17/50\n",
      "\u001b[1m1750/1750\u001b[0m \u001b[32m━━━━━━━━━━━━━━━━━━━━\u001b[0m\u001b[37m\u001b[0m \u001b[1m5s\u001b[0m 3ms/step - accuracy: 0.9787 - loss: 0.0532 - val_accuracy: 0.9696 - val_loss: 0.0869\n",
      "Epoch 18/50\n",
      "\u001b[1m1750/1750\u001b[0m \u001b[32m━━━━━━━━━━━━━━━━━━━━\u001b[0m\u001b[37m\u001b[0m \u001b[1m5s\u001b[0m 3ms/step - accuracy: 0.9795 - loss: 0.0497 - val_accuracy: 0.9786 - val_loss: 0.0521\n",
      "Epoch 19/50\n",
      "\u001b[1m1750/1750\u001b[0m \u001b[32m━━━━━━━━━━━━━━━━━━━━\u001b[0m\u001b[37m\u001b[0m \u001b[1m5s\u001b[0m 3ms/step - accuracy: 0.9807 - loss: 0.0477 - val_accuracy: 0.9799 - val_loss: 0.0505\n",
      "Epoch 20/50\n",
      "\u001b[1m1750/1750\u001b[0m \u001b[32m━━━━━━━━━━━━━━━━━━━━\u001b[0m\u001b[37m\u001b[0m \u001b[1m5s\u001b[0m 3ms/step - accuracy: 0.9804 - loss: 0.0471 - val_accuracy: 0.9799 - val_loss: 0.0526\n",
      "Epoch 21/50\n",
      "\u001b[1m1750/1750\u001b[0m \u001b[32m━━━━━━━━━━━━━━━━━━━━\u001b[0m\u001b[37m\u001b[0m \u001b[1m5s\u001b[0m 3ms/step - accuracy: 0.9806 - loss: 0.0456 - val_accuracy: 0.9802 - val_loss: 0.0491\n",
      "Epoch 22/50\n",
      "\u001b[1m1750/1750\u001b[0m \u001b[32m━━━━━━━━━━━━━━━━━━━━\u001b[0m\u001b[37m\u001b[0m \u001b[1m5s\u001b[0m 3ms/step - accuracy: 0.9808 - loss: 0.0487 - val_accuracy: 0.9804 - val_loss: 0.0499\n",
      "Epoch 23/50\n",
      "\u001b[1m1750/1750\u001b[0m \u001b[32m━━━━━━━━━━━━━━━━━━━━\u001b[0m\u001b[37m\u001b[0m \u001b[1m5s\u001b[0m 3ms/step - accuracy: 0.9800 - loss: 0.0475 - val_accuracy: 0.9799 - val_loss: 0.0525\n",
      "Epoch 24/50\n",
      "\u001b[1m1750/1750\u001b[0m \u001b[32m━━━━━━━━━━━━━━━━━━━━\u001b[0m\u001b[37m\u001b[0m \u001b[1m5s\u001b[0m 3ms/step - accuracy: 0.9814 - loss: 0.0432 - val_accuracy: 0.9768 - val_loss: 0.0694\n",
      "Epoch 25/50\n",
      "\u001b[1m1750/1750\u001b[0m \u001b[32m━━━━━━━━━━━━━━━━━━━━\u001b[0m\u001b[37m\u001b[0m \u001b[1m5s\u001b[0m 3ms/step - accuracy: 0.9818 - loss: 0.0459 - val_accuracy: 0.9773 - val_loss: 0.0615\n",
      "Epoch 26/50\n",
      "\u001b[1m1750/1750\u001b[0m \u001b[32m━━━━━━━━━━━━━━━━━━━━\u001b[0m\u001b[37m\u001b[0m \u001b[1m5s\u001b[0m 3ms/step - accuracy: 0.9809 - loss: 0.0463 - val_accuracy: 0.9803 - val_loss: 0.0520\n",
      "\u001b[1m438/438\u001b[0m \u001b[32m━━━━━━━━━━━━━━━━━━━━\u001b[0m\u001b[37m\u001b[0m \u001b[1m1s\u001b[0m 1ms/step\n"
     ]
    }
   ],
   "source": [
    "from keras.models import Sequential\n",
    "from keras.layers import Dense\n",
    "from keras.callbacks import EarlyStopping\n",
    "from keras.optimizers import Adam\n",
    "classifier = Sequential()\n",
    "\n",
    "classifier.add(Dense(64, kernel_initializer='uniform', activation = 'gelu' , input_dim = 9))\n",
    "\n",
    "classifier.add(Dense(64, kernel_initializer='uniform', activation = 'gelu'))\n",
    "\n",
    "classifier.add(Dense(32, kernel_initializer='uniform', activation = 'gelu'))\n",
    "\n",
    "classifier.add(Dense(32, kernel_initializer='uniform', activation = 'gelu'))\n",
    "\n",
    "\n",
    "classifier.add(Dense(1, kernel_initializer='uniform', activation = 'sigmoid'))\n",
    "\n",
    "classifier.compile(optimizer = Adam(0.001,0.5), loss =  'binary_crossentropy' , metrics = ['accuracy'] )\n",
    "\n",
    "early_stopping = EarlyStopping(\n",
    "    monitor='val_loss',  # İzlenecek metrik (Genelde validation loss takip edilir)\n",
    "    patience=5,          # İyileşme olmazsa kaç epoch beklenmeli\n",
    "    restore_best_weights=True  # En iyi ağırlıklara geri dön\n",
    ")\n",
    "\n",
    "history = classifier.fit(x_train, y_train, validation_data=(x_test, y_test) , epochs=50,  callbacks=[early_stopping])\n",
    "\n",
    "y_pred = classifier.predict(x_test)\n",
    "\n",
    "y_pred = (y_pred >= 0.5)"
   ]
  },
  {
   "cell_type": "code",
   "execution_count": 56,
   "metadata": {},
   "outputs": [
    {
     "name": "stdout",
     "output_type": "stream",
     "text": [
      "\u001b[1m438/438\u001b[0m \u001b[32m━━━━━━━━━━━━━━━━━━━━\u001b[0m\u001b[37m\u001b[0m \u001b[1m1s\u001b[0m 1ms/step\n",
      "best_threshold: 0.38\n"
     ]
    }
   ],
   "source": [
    "import numpy as np\n",
    "from sklearn.metrics import f1_score\n",
    "ypred_val = classifier.predict(x_test)\n",
    "\n",
    "best_threshold = 0\n",
    "best_F1 = 0\n",
    "    \n",
    "step_size = (np.max(ypred_val) - np.min(ypred_val)) / 10000\n",
    "    \n",
    "for threshold in np.arange(np.min(ypred_val), np.max(ypred_val), step_size):\n",
    "        \n",
    "    yhat_val = ypred_val>=threshold\n",
    "    F1 = f1_score(y_test, yhat_val, average='weighted', zero_division=0)\n",
    "    \n",
    "    if F1 > best_F1:\n",
    "        best_F1 = F1\n",
    "        best_threshold = threshold\n",
    "        \n",
    "print(f\"best_threshold: {best_threshold:.2f}\")"
   ]
  },
  {
   "cell_type": "code",
   "execution_count": 57,
   "metadata": {},
   "outputs": [
    {
     "name": "stdout",
     "output_type": "stream",
     "text": [
      "\u001b[1m438/438\u001b[0m \u001b[32m━━━━━━━━━━━━━━━━━━━━\u001b[0m\u001b[37m\u001b[0m \u001b[1m1s\u001b[0m 1ms/step\n",
      "Test_Error: 1.91%\n",
      "Accuracy on the test set: 0.98\n",
      "Precision: 0.98\n",
      "Recall: 0.98\n",
      "F1: 0.98\n"
     ]
    }
   ],
   "source": [
    "from sklearn.metrics import precision_score, recall_score, accuracy_score\n",
    "\n",
    "ypred_test = classifier.predict(x_test)\n",
    "yhat_test = np.where(ypred_test >= best_threshold, 1, 0).flatten()\n",
    "error_test = np.mean(yhat_test != y_test) *100  \n",
    "print(f\"Test_Error: {error_test:.2f}%\")\n",
    "\n",
    "print(f\"Accuracy on the test set: {(accuracy_score(y_test, yhat_test)):.2f}\")\n",
    "print(f\"Precision: {(precision_score(y_test, yhat_test, average='weighted', zero_division=0)):.2f}\")\n",
    "print(f\"Recall: {(recall_score(y_test, yhat_test, average='weighted', zero_division=0)):.2f}\")\n",
    "print(f\"F1: {(f1_score(y_test, yhat_test, average='weighted', zero_division=0)):.2f}\")"
   ]
  },
  {
   "cell_type": "code",
   "execution_count": 58,
   "metadata": {},
   "outputs": [
    {
     "name": "stderr",
     "output_type": "stream",
     "text": [
      "WARNING:absl:You are saving your model as an HDF5 file via `model.save()` or `keras.saving.save_model(model)`. This file format is considered legacy. We recommend using instead the native Keras format, e.g. `model.save('my_model.keras')` or `keras.saving.save_model(model, 'my_model.keras')`. \n"
     ]
    }
   ],
   "source": [
    "classifier.save(\"heart_risk_model.h5\")"
   ]
  },
  {
   "cell_type": "code",
   "execution_count": 59,
   "metadata": {},
   "outputs": [
    {
     "name": "stderr",
     "output_type": "stream",
     "text": [
      "WARNING:absl:Compiled the loaded model, but the compiled metrics have yet to be built. `model.compile_metrics` will be empty until you train or evaluate the model.\n"
     ]
    },
    {
     "name": "stdout",
     "output_type": "stream",
     "text": [
      "\u001b[1m438/438\u001b[0m \u001b[32m━━━━━━━━━━━━━━━━━━━━\u001b[0m\u001b[37m\u001b[0m \u001b[1m1s\u001b[0m 2ms/step - accuracy: 0.9809 - loss: 0.0444\n",
      "0.9802142977714539\n"
     ]
    }
   ],
   "source": [
    "from keras.models import load_model\n",
    "load_model = load_model(\"heart_risk_model.h5\")\n",
    "test_loss = load_model.evaluate(x_test, y_test)\n",
    "print(test_loss[1])"
   ]
  }
 ],
 "metadata": {
  "kernelspec": {
   "display_name": "Python 3",
   "language": "python",
   "name": "python3"
  },
  "language_info": {
   "codemirror_mode": {
    "name": "ipython",
    "version": 3
   },
   "file_extension": ".py",
   "mimetype": "text/x-python",
   "name": "python",
   "nbconvert_exporter": "python",
   "pygments_lexer": "ipython3",
   "version": "3.11.6"
  }
 },
 "nbformat": 4,
 "nbformat_minor": 2
}
